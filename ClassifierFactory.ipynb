{
 "cells": [
  {
   "cell_type": "code",
   "execution_count": 1,
   "metadata": {},
   "outputs": [],
   "source": [
    "#Импортируем библиотеки\n",
    "from multiprocessing import Pool\n",
    "import codecs\n",
    "import pandas as pd\n",
    "import numpy as np\n",
    "import nltk\n",
    "\n",
    "import matplotlib.pyplot\n",
    "%matplotlib inline"
   ]
  },
  {
   "cell_type": "code",
   "execution_count": 2,
   "metadata": {},
   "outputs": [],
   "source": [
    "data = pd.read_csv(\"posts_all.csv\", encoding=\"utf-8\")\n",
    "data.dropna(inplace=True)"
   ]
  },
  {
   "cell_type": "code",
   "execution_count": 3,
   "metadata": {},
   "outputs": [
    {
     "name": "stdout",
     "output_type": "stream",
     "text": [
      "<class 'pandas.core.frame.DataFrame'>\n",
      "Int64Index: 1916 entries, 0 to 1916\n",
      "Data columns (total 3 columns):\n",
      "id           1916 non-null int64\n",
      "text         1916 non-null object\n",
      "Sentiment    1916 non-null float64\n",
      "dtypes: float64(1), int64(1), object(1)\n",
      "memory usage: 59.9+ KB\n"
     ]
    },
    {
     "data": {
      "text/html": [
       "<div>\n",
       "<style scoped>\n",
       "    .dataframe tbody tr th:only-of-type {\n",
       "        vertical-align: middle;\n",
       "    }\n",
       "\n",
       "    .dataframe tbody tr th {\n",
       "        vertical-align: top;\n",
       "    }\n",
       "\n",
       "    .dataframe thead th {\n",
       "        text-align: right;\n",
       "    }\n",
       "</style>\n",
       "<table border=\"1\" class=\"dataframe\">\n",
       "  <thead>\n",
       "    <tr style=\"text-align: right;\">\n",
       "      <th></th>\n",
       "      <th>id</th>\n",
       "      <th>text</th>\n",
       "      <th>Sentiment</th>\n",
       "    </tr>\n",
       "  </thead>\n",
       "  <tbody>\n",
       "    <tr>\n",
       "      <th>1912</th>\n",
       "      <td>4852</td>\n",
       "      <td>[DevExpress Support Team: CLONED FROM [T870233...</td>\n",
       "      <td>2.0</td>\n",
       "    </tr>\n",
       "    <tr>\n",
       "      <th>1913</th>\n",
       "      <td>4853</td>\n",
       "      <td>[DevExpress Support Team: CLONED FROM [T870330...</td>\n",
       "      <td>2.0</td>\n",
       "    </tr>\n",
       "    <tr>\n",
       "      <th>1914</th>\n",
       "      <td>4854</td>\n",
       "      <td>[DevExpress Support Team: CLONED FROM [T870173...</td>\n",
       "      <td>2.0</td>\n",
       "    </tr>\n",
       "    <tr>\n",
       "      <th>1915</th>\n",
       "      <td>4855</td>\n",
       "      <td>I gave you a 9, just so you don't think you ar...</td>\n",
       "      <td>4.0</td>\n",
       "    </tr>\n",
       "    <tr>\n",
       "      <th>1916</th>\n",
       "      <td>4856</td>\n",
       "      <td>Hi ,After some additional research I've found ...</td>\n",
       "      <td>1.0</td>\n",
       "    </tr>\n",
       "  </tbody>\n",
       "</table>\n",
       "</div>"
      ],
      "text/plain": [
       "        id                                               text  Sentiment\n",
       "1912  4852  [DevExpress Support Team: CLONED FROM [T870233...        2.0\n",
       "1913  4853  [DevExpress Support Team: CLONED FROM [T870330...        2.0\n",
       "1914  4854  [DevExpress Support Team: CLONED FROM [T870173...        2.0\n",
       "1915  4855  I gave you a 9, just so you don't think you ar...        4.0\n",
       "1916  4856  Hi ,After some additional research I've found ...        1.0"
      ]
     },
     "execution_count": 3,
     "metadata": {},
     "output_type": "execute_result"
    },
    {
     "data": {
      "image/png": "[encoded data removed]",
      "text/plain": [
       "<Figure size 432x288 with 1 Axes>"
      ]
     },
     "metadata": {
      "needs_background": "light"
     },
     "output_type": "display_data"
    }
   ],
   "source": [
    "data.info()\n",
    "#Гистограмма распределения классов \n",
    "data.hist(column=[\"Sentiment\"])\n",
    "data.tail()"
   ]
  },
  {
   "cell_type": "code",
   "execution_count": 4,
   "metadata": {},
   "outputs": [
    {
     "data": {
      "text/plain": [
       "array([[<matplotlib.axes._subplots.AxesSubplot object at 0x0000021564E69F28>]],\n",
       "      dtype=object)"
      ]
     },
     "execution_count": 4,
     "metadata": {},
     "output_type": "execute_result"
    },
    {
     "data": {
      "image/png": "[encoded data removed]",
      "text/plain": [
       "<Figure size 432x288 with 1 Axes>"
      ]
     },
     "metadata": {
      "needs_background": "light"
     },
     "output_type": "display_data"
    }
   ],
   "source": [
    "data[\"target\"] = data.Sentiment.apply(lambda x: 1 if x > 2 else 0 if x < 2 else 0.5)\n",
    "data.hist(column=[\"target\"])"
   ]
  },
  {
   "cell_type": "code",
   "execution_count": 6,
   "metadata": {},
   "outputs": [],
   "source": [
    "#The data store in really imbalanced\n",
    "#Let's try the over sampling technice\n",
    "\n",
    "import random \n",
    "classes = np.unique(data.target.values)\n",
    "amount_classes = data.groupby(\"target\").count().id.values\n",
    "max_amount = max(amount_classes)\n",
    "for cl_index in range(len(classes)):\n",
    "    cl = classes[cl_index]\n",
    "    cl_slice = data[data.target == cl]\n",
    "    amount = amount_classes[cl_index]\n",
    "    samples_to_add = max_amount - amount\n",
    "    while samples_to_add > 0:\n",
    "        sample_index = random.randint(0, amount - 1)\n",
    "\n",
    "        data = data.append(cl_slice.iloc[sample_index])\n",
    "        samples_to_add -= 1\n"
   ]
  },
  {
   "cell_type": "code",
   "execution_count": 7,
   "metadata": {},
   "outputs": [
    {
     "name": "stdout",
     "output_type": "stream",
     "text": [
      "<class 'pandas.core.frame.DataFrame'>\n",
      "Int64Index: 2868 entries, 0 to 1411\n",
      "Data columns (total 4 columns):\n",
      "id           2868 non-null int64\n",
      "text         2868 non-null object\n",
      "Sentiment    2868 non-null float64\n",
      "target       2868 non-null float64\n",
      "dtypes: float64(2), int64(1), object(1)\n",
      "memory usage: 112.0+ KB\n"
     ]
    },
    {
     "data": {
      "text/plain": [
       "array([[<matplotlib.axes._subplots.AxesSubplot object at 0x000002156AB8AEB8>]],\n",
       "      dtype=object)"
      ]
     },
     "execution_count": 7,
     "metadata": {},
     "output_type": "execute_result"
    },
    {
     "data": {
      "image/png": "[encoded data removed]",
      "text/plain": [
       "<Figure size 432x288 with 1 Axes>"
      ]
     },
     "metadata": {
      "needs_background": "light"
     },
     "output_type": "display_data"
    }
   ],
   "source": [
    "data.info()\n",
    "data.hist(column=[\"target\"])"
   ]
  },
  {
   "cell_type": "code",
   "execution_count": 8,
   "metadata": {},
   "outputs": [],
   "source": [
    "from sklearn.linear_model import LinearRegression, LogisticRegression\n",
    "from sklearn.model_selection import cross_val_score\n",
    "from sklearn.feature_extraction.text import TfidfTransformer, CountVectorizer, TfidfVectorizer\n",
    "from sklearn.svm import LinearSVC\n",
    "\n",
    "X = data.text.values\n",
    "Y = data.target.values"
   ]
  },
  {
   "cell_type": "code",
   "execution_count": 9,
   "metadata": {},
   "outputs": [],
   "source": [
    "#Импортируем доп библиотеки\n",
    "from sklearn.pipeline import Pipeline\n",
    "#Подбор лучших параметров\n",
    "from sklearn.model_selection import GridSearchCV\n",
    "\n",
    "#Функция создания каскада - пайплайна из ветроризатора, трансформатора и класификатора\n",
    "def text_classifier(vectorizer, classifier, transformer=None):\n",
    "    if (transformer is None) :\n",
    "        return Pipeline(\n",
    "                [(\"vectorizer\", vectorizer),\n",
    "                 (\"classifier\", classifier)]\n",
    "            )\n",
    "    else: \n",
    "        return Pipeline(\n",
    "            [(\"vectorizer\", vectorizer),\n",
    "             (\"transformer\", transformer),\n",
    "            (\"classifier\", classifier)]\n",
    "        )"
   ]
  },
  {
   "cell_type": "code",
   "execution_count": null,
   "metadata": {},
   "outputs": [],
   "source": [
    "# the best parameters search for the level 1 estimator\n",
    "ngram_range = [(2,4),(2,5),(3,5),(2,6),(3,6),(4,6)]\n",
    "param_grid = {\n",
    "    \"vectorizer\": [TfidfVectorizer(), CountVectorizer()],\n",
    "    \"vectorizer__analyzer\": [\"char\", \"char_wb\", \"word\"],\n",
    "    \"vectorizer__ngram_range\": ngram_range,\n",
    "    \"vectorizer__stop_words\": [None, \"english\"],\n",
    "    \"classifier\": [LinearRegression()],\n",
    "    #\"vectorizer__max_df\": np.arange(0.95, 1.0, 0.02),\n",
    "    #\"vectorizer__min_df\": np.arange(0.0, 0.10, 0.05),\n",
    "}\n",
    "\n",
    "pipLine = text_classifier(CountVectorizer(), LinearSVC())\n",
    "gridSearchCV = GridSearchCV(pipLine, scoring=\"max_error\", \n",
    "                            param_grid=param_grid,\n",
    "                            cv=5,\n",
    "                           )\n",
    "gridSearchCV.fit(X, Y)\n",
    "\n",
    "print(\"best params\", gridSearchCV.best_params_)\n",
    "print(\"best score\", gridSearchCV.best_score_)"
   ]
  },
  {
   "cell_type": "code",
   "execution_count": null,
   "metadata": {},
   "outputs": [],
   "source": [
    "# the best parameters search for the level 2 estimator\n",
    "\n",
    "Y_classes = data.Sentiment.values\n",
    "\n",
    "ngram_range = [(2,4),(2,5),(3,5),(2,6),(3,6),(4,6)]\n",
    "param_grid = {\n",
    "    \"vectorizer\": [TfidfVectorizer(), CountVectorizer()],\n",
    "    \"vectorizer__analyzer\": [\"char\", \"char_wb\", \"word\"],\n",
    "    \"vectorizer__ngram_range\": ngram_range,\n",
    "    \"vectorizer__stop_words\": [None, \"english\"],\n",
    "    \"classifier\": [LogisticRegression(multi_class=\"multinomial\", \n",
    "                                      solver=\"lbfgs\",\n",
    "                                      max_iter=120   \n",
    "                                     )],\n",
    "    #\"vectorizer__max_df\": np.arange(0.95, 1.0, 0.02),\n",
    "    #\"vectorizer__min_df\": np.arange(0.0, 0.10, 0.05),\n",
    "}\n",
    "\n",
    "pipLine = text_classifier(CountVectorizer(), LogisticRegression())\n",
    "gridSearchCV = GridSearchCV(pipLine, \n",
    "                            cv=5,\n",
    "                            param_grid=param_grid)\n",
    "gridSearchCV.fit(X, Y_classes)\n",
    "\n",
    "print(\"best params\", gridSearchCV.best_params_)\n",
    "print(\"best score\", gridSearchCV.best_score_)"
   ]
  },
  {
   "cell_type": "code",
   "execution_count": null,
   "metadata": {},
   "outputs": [],
   "source": [
    "from sklearn.model_selection import train_test_split\n",
    "\n",
    "vectorizer = TfidfVectorizer(analyzer='char', ngram_range=(4, 6), max_df=0.95)\n",
    "X_vec = vectorizer.fit_transform(X)\n",
    "\n",
    "X_train, X_test, Y_train, Y_test = train_test_split(X_vec, Y, test_size=0.33)\n",
    "\n",
    "\n",
    "linear_classifier = LinearRegression()\n",
    "linear_classifier.fit(X_train, Y_train)"
   ]
  },
  {
   "cell_type": "code",
   "execution_count": null,
   "metadata": {},
   "outputs": [],
   "source": [
    "print(\"Train\",\n",
    "      linear_classifier.score(X_train, Y_train),\n",
    "      \"Test\",\n",
    "      linear_classifier.score(X_test, Y_test))"
   ]
  },
  {
   "cell_type": "code",
   "execution_count": null,
   "metadata": {},
   "outputs": [],
   "source": [
    "l2_vectorizer = TfidfVectorizer(analyzer='char', ngram_range=(3, 5), max_df=0.95)\n",
    "X_vec_l2 = l2_vectorizer.fit_transform(X)\n",
    "\n",
    "linear_estimation = np.array([list([v]) for v in linear_classifier.predict(X_vec)])\n",
    "X_epanded = np.hstack((X_vec_l2.toarray(), linear_estimation))\n",
    "Y_classes = data.Sentiment.apply(lambda x: 1 if x > 2 else -1 if x < 2 else 0).values"
   ]
  },
  {
   "cell_type": "code",
   "execution_count": 55,
   "metadata": {},
   "outputs": [
    {
     "data": {
      "text/plain": [
       "LogisticRegression(C=1.0, class_weight=None, dual=False, fit_intercept=True,\n",
       "                   intercept_scaling=1, l1_ratio=None, max_iter=100,\n",
       "                   multi_class='ovr', n_jobs=None, penalty='l2',\n",
       "                   random_state=None, solver='lbfgs', tol=0.0001, verbose=0,\n",
       "                   warm_start=False)"
      ]
     },
     "execution_count": 55,
     "metadata": {},
     "output_type": "execute_result"
    }
   ],
   "source": [
    "X_train, X_test, Y_train, Y_test = train_test_split(X_epanded, Y_classes, test_size=0.33)\n",
    "\n",
    "\n",
    "log_classifier = LogisticRegression(solver=\"lbfgs\", \n",
    "                                    multi_class=\"ovr\")\n",
    "log_classifier.fit(X_train, Y_train)"
   ]
  },
  {
   "cell_type": "code",
   "execution_count": 56,
   "metadata": {},
   "outputs": [
    {
     "name": "stdout",
     "output_type": "stream",
     "text": [
      "Train 0.9389567147613762 Test 0.8898876404494382\n",
      "[0.89298893 0.8962963  0.88104089 0.87686567 0.91791045]\n"
     ]
    }
   ],
   "source": [
    "print(\"Train\",\n",
    "      log_classifier.score(X_train, Y_train),\n",
    "      \"Test\",\n",
    "      log_classifier.score(X_test, Y_test))\n",
    "\n",
    "print(cross_val_score(log_classifier, X_epanded, Y_classes, cv=5))"
   ]
  },
  {
   "cell_type": "code",
   "execution_count": 57,
   "metadata": {},
   "outputs": [
    {
     "name": "stdout",
     "output_type": "stream",
     "text": [
      "1345\n",
      "This was exactly what i was looking for.  \n",
      "Thank you Yulia for your help. Prediction -  1\n",
      "The real value is -  1\n",
      "[[0.00823931 0.30631146 0.68544923]]\n"
     ]
    }
   ],
   "source": [
    "print(len(X) - 1)\n",
    "test_index = 1345\n",
    "print(X[test_index],\n",
    "      \"Prediction - \",\n",
    "      log_classifier.predict([X_epanded[test_index]])[0])\n",
    "print(\"The real value is - \",\n",
    "     Y_classes[test_index])\n",
    "print(log_classifier.predict_proba([X_epanded[test_index]]))"
   ]
  },
  {
   "cell_type": "code",
   "execution_count": 58,
   "metadata": {},
   "outputs": [],
   "source": [
    "import pickle\n",
    "#Сохранение данных в файл с помощью pickle\n",
    "pickle.dump(linear_classifier, open( \"l1_Classifier.pkl\", \"wb\" ))\n",
    "pickle.dump(vectorizer, open( \"l1_vectorizer.pkl\", \"wb\" ))\n",
    "pickle.dump(log_classifier, open( \"l2_Classifier.pkl\", \"wb\" ))\n",
    "pickle.dump(l2_vectorizer, open( \"l2_vectorizer.pkl\", \"wb\" ))"
   ]
  },
  {
   "cell_type": "code",
   "execution_count": null,
   "metadata": {},
   "outputs": [],
   "source": []
  }
 ],
 "metadata": {
  "kernelspec": {
   "display_name": "Python 3",
   "language": "python",
   "name": "python3"
  },
  "language_info": {
   "codemirror_mode": {
    "name": "ipython",
    "version": 3
   },
   "file_extension": ".py",
   "mimetype": "text/x-python",
   "name": "python",
   "nbconvert_exporter": "python",
   "pygments_lexer": "ipython3",
   "version": "3.7.3"
  }
 },
 "nbformat": 4,
 "nbformat_minor": 4
}
