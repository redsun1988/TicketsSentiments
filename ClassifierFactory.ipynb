{
 "cells": [
  {
   "cell_type": "code",
   "execution_count": 13,
   "metadata": {},
   "outputs": [],
   "source": [
    "#Импортируем библиотеки\n",
    "from multiprocessing import Pool\n",
    "import codecs\n",
    "import pandas as pd\n",
    "import numpy as np\n",
    "import nltk\n",
    "\n",
    "import matplotlib.pyplot\n",
    "%matplotlib inline"
   ]
  },
  {
   "cell_type": "code",
   "execution_count": 14,
   "metadata": {},
   "outputs": [],
   "source": [
    "data = pd.read_csv(\"posts_all.csv\", encoding=\"utf-8\")\n",
    "data.dropna(inplace=True)"
   ]
  },
  {
   "cell_type": "code",
   "execution_count": 15,
   "metadata": {},
   "outputs": [
    {
     "name": "stdout",
     "output_type": "stream",
     "text": [
      "<class 'pandas.core.frame.DataFrame'>\n",
      "Int64Index: 1346 entries, 0 to 1941\n",
      "Data columns (total 7 columns):\n",
      "Id           1346 non-null int64\n",
      "Text         1346 non-null object\n",
      "Sentiment    1346 non-null float64\n",
      "Created      1346 non-null object\n",
      "Modified     1346 non-null object\n",
      "Splitted     1346 non-null object\n",
      "GroupId      1346 non-null float64\n",
      "dtypes: float64(2), int64(1), object(4)\n",
      "memory usage: 84.1+ KB\n"
     ]
    },
    {
     "data": {
      "text/html": [
       "<div>\n",
       "<style scoped>\n",
       "    .dataframe tbody tr th:only-of-type {\n",
       "        vertical-align: middle;\n",
       "    }\n",
       "\n",
       "    .dataframe tbody tr th {\n",
       "        vertical-align: top;\n",
       "    }\n",
       "\n",
       "    .dataframe thead th {\n",
       "        text-align: right;\n",
       "    }\n",
       "</style>\n",
       "<table border=\"1\" class=\"dataframe\">\n",
       "  <thead>\n",
       "    <tr style=\"text-align: right;\">\n",
       "      <th></th>\n",
       "      <th>Id</th>\n",
       "      <th>Text</th>\n",
       "      <th>Sentiment</th>\n",
       "      <th>Created</th>\n",
       "      <th>Modified</th>\n",
       "      <th>Splitted</th>\n",
       "      <th>GroupId</th>\n",
       "    </tr>\n",
       "  </thead>\n",
       "  <tbody>\n",
       "    <tr>\n",
       "      <th>1937</th>\n",
       "      <td>4831</td>\n",
       "      <td>Hi, Helen,  \\r\\nThanks very much.  \\r\\nYour ap...</td>\n",
       "      <td>3.0</td>\n",
       "      <td>2018-12-02 00:00:00.000</td>\n",
       "      <td>2018-12-02 00:00:00.000</td>\n",
       "      <td>2018-12-02 00:00:00.000</td>\n",
       "      <td>8.0</td>\n",
       "    </tr>\n",
       "    <tr>\n",
       "      <th>1938</th>\n",
       "      <td>4832</td>\n",
       "      <td>Thank you very much for your help Brendon!  \\r...</td>\n",
       "      <td>3.0</td>\n",
       "      <td>2018-12-02 00:00:00.000</td>\n",
       "      <td>2018-12-02 00:00:00.000</td>\n",
       "      <td>2018-12-02 00:00:00.000</td>\n",
       "      <td>8.0</td>\n",
       "    </tr>\n",
       "    <tr>\n",
       "      <th>1939</th>\n",
       "      <td>4833</td>\n",
       "      <td>Thank you Svetlana that makes sense and now wo...</td>\n",
       "      <td>4.0</td>\n",
       "      <td>2018-12-02 00:00:00.000</td>\n",
       "      <td>2018-12-02 00:00:00.000</td>\n",
       "      <td>2018-12-02 00:00:00.000</td>\n",
       "      <td>8.0</td>\n",
       "    </tr>\n",
       "    <tr>\n",
       "      <th>1940</th>\n",
       "      <td>4834</td>\n",
       "      <td>Thanks very much Alex.  \\r\\nRun speed and ok! ...</td>\n",
       "      <td>3.0</td>\n",
       "      <td>2018-12-02 00:00:00.000</td>\n",
       "      <td>2018-12-02 00:00:00.000</td>\n",
       "      <td>2018-12-02 00:00:00.000</td>\n",
       "      <td>8.0</td>\n",
       "    </tr>\n",
       "    <tr>\n",
       "      <th>1941</th>\n",
       "      <td>4835</td>\n",
       "      <td>This was exactly what i was looking for.  \\r\\n...</td>\n",
       "      <td>3.0</td>\n",
       "      <td>2018-12-02 00:00:00.000</td>\n",
       "      <td>2018-12-02 00:00:00.000</td>\n",
       "      <td>2018-12-02 00:00:00.000</td>\n",
       "      <td>8.0</td>\n",
       "    </tr>\n",
       "  </tbody>\n",
       "</table>\n",
       "</div>"
      ],
      "text/plain": [
       "        Id                                               Text  Sentiment  \\\n",
       "1937  4831  Hi, Helen,  \\r\\nThanks very much.  \\r\\nYour ap...        3.0   \n",
       "1938  4832  Thank you very much for your help Brendon!  \\r...        3.0   \n",
       "1939  4833  Thank you Svetlana that makes sense and now wo...        4.0   \n",
       "1940  4834  Thanks very much Alex.  \\r\\nRun speed and ok! ...        3.0   \n",
       "1941  4835  This was exactly what i was looking for.  \\r\\n...        3.0   \n",
       "\n",
       "                      Created                 Modified  \\\n",
       "1937  2018-12-02 00:00:00.000  2018-12-02 00:00:00.000   \n",
       "1938  2018-12-02 00:00:00.000  2018-12-02 00:00:00.000   \n",
       "1939  2018-12-02 00:00:00.000  2018-12-02 00:00:00.000   \n",
       "1940  2018-12-02 00:00:00.000  2018-12-02 00:00:00.000   \n",
       "1941  2018-12-02 00:00:00.000  2018-12-02 00:00:00.000   \n",
       "\n",
       "                     Splitted  GroupId  \n",
       "1937  2018-12-02 00:00:00.000      8.0  \n",
       "1938  2018-12-02 00:00:00.000      8.0  \n",
       "1939  2018-12-02 00:00:00.000      8.0  \n",
       "1940  2018-12-02 00:00:00.000      8.0  \n",
       "1941  2018-12-02 00:00:00.000      8.0  "
      ]
     },
     "execution_count": 15,
     "metadata": {},
     "output_type": "execute_result"
    },
    {
     "data": {
      "image/png": "[encoded data removed]",
      "text/plain": [
       "<Figure size 432x288 with 1 Axes>"
      ]
     },
     "metadata": {
      "needs_background": "light"
     },
     "output_type": "display_data"
    }
   ],
   "source": [
    "data.info()\n",
    "#Гистограмма распределения классов \n",
    "data.hist(column=[\"Sentiment\"])\n",
    "data.tail()\n"
   ]
  },
  {
   "cell_type": "code",
   "execution_count": 31,
   "metadata": {},
   "outputs": [],
   "source": [
    "#The data store in really imbalanced\n",
    "#Let's try the over sampling technice\n",
    "\n",
    "import random \n",
    "classes = np.unique(data.Sentiment.values)\n",
    "amount_classes = data.groupby(\"Sentiment\").count().Id.values\n",
    "max_amount = max(amount_classes)\n",
    "for cl_index in range(len(classes)):\n",
    "    cl = classes[cl_index]\n",
    "    cl_slice = data[data.Sentiment == cl]\n",
    "    amount = amount_classes[cl_index]\n",
    "    samples_to_add = max_amount - amount\n",
    "    while samples_to_add > 0:\n",
    "        sample_index = random.randint(0, amount - 1)\n",
    "\n",
    "        data = data.append(cl_slice.iloc[sample_index])\n",
    "        samples_to_add -= 1\n"
   ]
  },
  {
   "cell_type": "code",
   "execution_count": 32,
   "metadata": {},
   "outputs": [
    {
     "name": "stdout",
     "output_type": "stream",
     "text": [
      "<class 'pandas.core.frame.DataFrame'>\n",
      "Int64Index: 4730 entries, 0 to 87\n",
      "Data columns (total 7 columns):\n",
      "Id           4730 non-null int64\n",
      "Text         4730 non-null object\n",
      "Sentiment    4730 non-null float64\n",
      "Created      4730 non-null object\n",
      "Modified     4730 non-null object\n",
      "Splitted     4730 non-null object\n",
      "GroupId      4730 non-null float64\n",
      "dtypes: float64(2), int64(1), object(4)\n",
      "memory usage: 295.6+ KB\n"
     ]
    },
    {
     "data": {
      "text/plain": [
       "array([[<matplotlib.axes._subplots.AxesSubplot object at 0x0000018268D98CC0>,\n",
       "        <matplotlib.axes._subplots.AxesSubplot object at 0x00000182689E33C8>],\n",
       "       [<matplotlib.axes._subplots.AxesSubplot object at 0x0000018268AF1E80>,\n",
       "        <matplotlib.axes._subplots.AxesSubplot object at 0x0000018268987C18>]],\n",
       "      dtype=object)"
      ]
     },
     "execution_count": 32,
     "metadata": {},
     "output_type": "execute_result"
    },
    {
     "data": {
      "image/png": "[encoded data removed]",
      "text/plain": [
       "<Figure size 432x288 with 4 Axes>"
      ]
     },
     "metadata": {
      "needs_background": "light"
     },
     "output_type": "display_data"
    }
   ],
   "source": [
    "data.info()\n",
    "data.hist(column=[\"Sentiment\"])"
   ]
  },
  {
   "cell_type": "code",
   "execution_count": 26,
   "metadata": {},
   "outputs": [],
   "source": [
    "from sklearn.linear_model import LinearRegression, LogisticRegression\n",
    "from sklearn.model_selection import cross_val_score\n",
    "from sklearn.feature_extraction.text import TfidfTransformer, CountVectorizer, TfidfVectorizer\n",
    "from sklearn.svm import LinearSVC\n",
    "\n",
    "data[\"target\"] = data.Sentiment.apply(lambda x: 1 if x > 2 else 0 if x < 2 else 0.5)\n",
    "\n",
    "X = data.Text.values\n",
    "Y = data.target.values"
   ]
  },
  {
   "cell_type": "code",
   "execution_count": 29,
   "metadata": {},
   "outputs": [],
   "source": [
    "#Импортируем доп библиотеки\n",
    "from sklearn.pipeline import Pipeline\n",
    "#Подбор лучших параметров\n",
    "from sklearn.model_selection import GridSearchCV\n",
    "\n",
    "#Функция создания каскада - пайплайна из ветроризатора, трансформатора и класификатора\n",
    "def text_classifier(vectorizer, classifier, transformer=None):\n",
    "    if (transformer is None) :\n",
    "        return Pipeline(\n",
    "                [(\"vectorizer\", vectorizer),\n",
    "                 (\"classifier\", classifier)]\n",
    "            )\n",
    "    else: \n",
    "        return Pipeline(\n",
    "            [(\"vectorizer\", vectorizer),\n",
    "             (\"transformer\", transformer),\n",
    "            (\"classifier\", classifier)]\n",
    "        )"
   ]
  },
  {
   "cell_type": "code",
   "execution_count": 30,
   "metadata": {},
   "outputs": [
    {
     "name": "stdout",
     "output_type": "stream",
     "text": [
      "best params {'classifier': LinearRegression(copy_X=True, fit_intercept=True, n_jobs=None, normalize=False), 'vectorizer': CountVectorizer(analyzer='word', binary=False, decode_error='strict',\n",
      "                dtype=<class 'numpy.int64'>, encoding='utf-8', input='content',\n",
      "                lowercase=True, max_df=0.95, max_features=None, min_df=1,\n",
      "                ngram_range=(4, 6), preprocessor=None, stop_words='english',\n",
      "                strip_accents=None, token_pattern='(?u)\\\\b\\\\w\\\\w+\\\\b',\n",
      "                tokenizer=None, vocabulary=None), 'vectorizer__analyzer': 'word', 'vectorizer__max_df': 0.95, 'vectorizer__ngram_range': (4, 6), 'vectorizer__stop_words': 'english'}\n",
      "best score -0.5650080925755924\n"
     ]
    },
    {
     "name": "stderr",
     "output_type": "stream",
     "text": [
      "C:\\Users\\Maks Konyaev\\Anaconda3\\lib\\site-packages\\sklearn\\model_selection\\_search.py:814: DeprecationWarning: The default of the `iid` parameter will change from True to False in version 0.22 and will be removed in 0.24. This will change numeric results when test-set sizes are unequal.\n",
      "  DeprecationWarning)\n"
     ]
    }
   ],
   "source": [
    "# the best parameters search for the level 1 estimator\n",
    "ngram_range = [(2,4),(2,5),(3,5),(2,6),(3,6),(4,6)]\n",
    "param_grid = {\n",
    "    \"vectorizer\": [TfidfVectorizer(), CountVectorizer()],\n",
    "    \"vectorizer__analyzer\": [\"char\", \"char_wb\", \"word\"],\n",
    "    \"vectorizer__ngram_range\": ngram_range,\n",
    "    \"vectorizer__stop_words\": [None, \"english\"],\n",
    "    \"classifier\": [LinearRegression()],\n",
    "    \"vectorizer__max_df\": np.arange(0.95, 1.0, 0.02),\n",
    "    #\"vectorizer__min_df\": np.arange(0.0, 0.10, 0.05),\n",
    "}\n",
    "\n",
    "pipLine = text_classifier(CountVectorizer(), LinearSVC())\n",
    "gridSearchCV = GridSearchCV(pipLine, scoring=\"max_error\", \n",
    "                            param_grid=param_grid,\n",
    "                            cv=5,\n",
    "                           )\n",
    "gridSearchCV.fit(X, Y)\n",
    "\n",
    "print(\"best params\", gridSearchCV.best_params_)\n",
    "print(\"best score\", gridSearchCV.best_score_)"
   ]
  },
  {
   "cell_type": "code",
   "execution_count": null,
   "metadata": {},
   "outputs": [],
   "source": [
    "# the best parameters search for the level 2 estimator\n",
    "\n",
    "Y_classes = data.Sentiment.values\n",
    "\n",
    "ngram_range = [(2,4),(2,5),(3,5),(2,6),(3,6),(4,6)]\n",
    "param_grid = {\n",
    "    \"vectorizer\": [TfidfVectorizer(), CountVectorizer()],\n",
    "    \"vectorizer__analyzer\": [\"char\", \"char_wb\", \"word\"],\n",
    "    \"vectorizer__ngram_range\": ngram_range,\n",
    "    \"vectorizer__stop_words\": [None, \"english\"],\n",
    "    \"classifier\": [LogisticRegression(multi_class=\"multinomial\", \n",
    "                                      solver=\"lbfgs\",\n",
    "                                      max_iter=120   \n",
    "                                     )],\n",
    "    \"vectorizer__max_df\": np.arange(0.95, 1.0, 0.02),\n",
    "    #\"vectorizer__min_df\": np.arange(0.0, 0.10, 0.05),\n",
    "}\n",
    "\n",
    "pipLine = text_classifier(CountVectorizer(), LogisticRegression())\n",
    "gridSearchCV = GridSearchCV(pipLine, \n",
    "                            cv=5,\n",
    "                            param_grid=param_grid)\n",
    "gridSearchCV.fit(X, Y_classes)\n",
    "\n",
    "print(\"best params\", gridSearchCV.best_params_)\n",
    "print(\"best score\", gridSearchCV.best_score_)"
   ]
  },
  {
   "cell_type": "code",
   "execution_count": 52,
   "metadata": {},
   "outputs": [
    {
     "data": {
      "text/plain": [
       "LinearRegression(copy_X=True, fit_intercept=True, n_jobs=None, normalize=False)"
      ]
     },
     "execution_count": 52,
     "metadata": {},
     "output_type": "execute_result"
    }
   ],
   "source": [
    "from sklearn.model_selection import train_test_split\n",
    "\n",
    "vectorizer = TfidfVectorizer(analyzer='char', ngram_range=(4, 6), max_df=0.95)\n",
    "X_vec = vectorizer.fit_transform(X)\n",
    "\n",
    "X_train, X_test, Y_train, Y_test = train_test_split(X_vec, Y, test_size=0.33)\n",
    "\n",
    "\n",
    "linear_classifier = LinearRegression()\n",
    "linear_classifier.fit(X_train, Y_train)"
   ]
  },
  {
   "cell_type": "code",
   "execution_count": 53,
   "metadata": {},
   "outputs": [
    {
     "name": "stdout",
     "output_type": "stream",
     "text": [
      "Train 0.999999999999989 Test 0.36434815621977945\n"
     ]
    }
   ],
   "source": [
    "print(\"Train\",\n",
    "      linear_classifier.score(X_train, Y_train),\n",
    "      \"Test\",\n",
    "      linear_classifier.score(X_test, Y_test))"
   ]
  },
  {
   "cell_type": "code",
   "execution_count": 54,
   "metadata": {},
   "outputs": [],
   "source": [
    "l2_vectorizer = TfidfVectorizer(analyzer='char', ngram_range=(3, 5), max_df=0.95)\n",
    "X_vec_l2 = l2_vectorizer.fit_transform(X)\n",
    "\n",
    "linear_estimation = np.array([list([v]) for v in linear_classifier.predict(X_vec)])\n",
    "X_epanded = np.hstack((X_vec_l2.toarray(), linear_estimation))\n",
    "Y_classes = data.Sentiment.apply(lambda x: 1 if x > 2 else -1 if x < 2 else 0).values"
   ]
  },
  {
   "cell_type": "code",
   "execution_count": 55,
   "metadata": {},
   "outputs": [
    {
     "data": {
      "text/plain": [
       "LogisticRegression(C=1.0, class_weight=None, dual=False, fit_intercept=True,\n",
       "                   intercept_scaling=1, l1_ratio=None, max_iter=100,\n",
       "                   multi_class='ovr', n_jobs=None, penalty='l2',\n",
       "                   random_state=None, solver='lbfgs', tol=0.0001, verbose=0,\n",
       "                   warm_start=False)"
      ]
     },
     "execution_count": 55,
     "metadata": {},
     "output_type": "execute_result"
    }
   ],
   "source": [
    "X_train, X_test, Y_train, Y_test = train_test_split(X_epanded, Y_classes, test_size=0.33)\n",
    "\n",
    "\n",
    "log_classifier = LogisticRegression(solver=\"lbfgs\", \n",
    "                                    multi_class=\"ovr\")\n",
    "log_classifier.fit(X_train, Y_train)"
   ]
  },
  {
   "cell_type": "code",
   "execution_count": 56,
   "metadata": {},
   "outputs": [
    {
     "name": "stdout",
     "output_type": "stream",
     "text": [
      "Train 0.9389567147613762 Test 0.8898876404494382\n",
      "[0.89298893 0.8962963  0.88104089 0.87686567 0.91791045]\n"
     ]
    }
   ],
   "source": [
    "print(\"Train\",\n",
    "      log_classifier.score(X_train, Y_train),\n",
    "      \"Test\",\n",
    "      log_classifier.score(X_test, Y_test))\n",
    "\n",
    "print(cross_val_score(log_classifier, X_epanded, Y_classes, cv=5))"
   ]
  },
  {
   "cell_type": "code",
   "execution_count": 57,
   "metadata": {},
   "outputs": [
    {
     "name": "stdout",
     "output_type": "stream",
     "text": [
      "1345\n",
      "This was exactly what i was looking for.  \n",
      "Thank you Yulia for your help. Prediction -  1\n",
      "The real value is -  1\n",
      "[[0.00823931 0.30631146 0.68544923]]\n"
     ]
    }
   ],
   "source": [
    "print(len(X) - 1)\n",
    "test_index = 1345\n",
    "print(X[test_index],\n",
    "      \"Prediction - \",\n",
    "      log_classifier.predict([X_epanded[test_index]])[0])\n",
    "print(\"The real value is - \",\n",
    "     Y_classes[test_index])\n",
    "print(log_classifier.predict_proba([X_epanded[test_index]]))"
   ]
  },
  {
   "cell_type": "code",
   "execution_count": 58,
   "metadata": {},
   "outputs": [],
   "source": [
    "import pickle\n",
    "#Сохранение данных в файл с помощью pickle\n",
    "pickle.dump(linear_classifier, open( \"l1_Classifier.pkl\", \"wb\" ))\n",
    "pickle.dump(vectorizer, open( \"l1_vectorizer.pkl\", \"wb\" ))\n",
    "pickle.dump(log_classifier, open( \"l2_Classifier.pkl\", \"wb\" ))\n",
    "pickle.dump(l2_vectorizer, open( \"l2_vectorizer.pkl\", \"wb\" ))"
   ]
  },
  {
   "cell_type": "code",
   "execution_count": null,
   "metadata": {},
   "outputs": [],
   "source": []
  }
 ],
 "metadata": {
  "kernelspec": {
   "display_name": "Python 3",
   "language": "python",
   "name": "python3"
  },
  "language_info": {
   "codemirror_mode": {
    "name": "ipython",
    "version": 3
   },
   "file_extension": ".py",
   "mimetype": "text/x-python",
   "name": "python",
   "nbconvert_exporter": "python",
   "pygments_lexer": "ipython3",
   "version": "3.7.3"
  }
 },
 "nbformat": 4,
 "nbformat_minor": 4
}
