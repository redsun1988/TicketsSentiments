{
 "cells": [
  {
   "cell_type": "code",
   "execution_count": 46,
   "metadata": {},
   "outputs": [],
   "source": [
    "#Импортируем библиотеки\n",
    "from multiprocessing import Pool\n",
    "import codecs\n",
    "import pandas as pd\n",
    "import numpy as np\n",
    "import nltk\n",
    "\n",
    "import matplotlib.pyplot\n",
    "%matplotlib inline"
   ]
  },
  {
   "cell_type": "code",
   "execution_count": 47,
   "metadata": {},
   "outputs": [],
   "source": [
    "data = pd.read_csv(\"posts_all.csv\", encoding=\"utf-8\")\n",
    "data.dropna(inplace=True)"
   ]
  },
  {
   "cell_type": "code",
   "execution_count": 48,
   "metadata": {},
   "outputs": [
    {
     "name": "stdout",
     "output_type": "stream",
     "text": [
      "<class 'pandas.core.frame.DataFrame'>\n",
      "Int64Index: 2608 entries, 0 to 2623\n",
      "Data columns (total 2 columns):\n",
      "text         2608 non-null object\n",
      "Sentiment    2608 non-null float64\n",
      "dtypes: float64(1), object(1)\n",
      "memory usage: 61.1+ KB\n"
     ]
    },
    {
     "data": {
      "text/html": [
       "<div>\n",
       "<style scoped>\n",
       "    .dataframe tbody tr th:only-of-type {\n",
       "        vertical-align: middle;\n",
       "    }\n",
       "\n",
       "    .dataframe tbody tr th {\n",
       "        vertical-align: top;\n",
       "    }\n",
       "\n",
       "    .dataframe thead th {\n",
       "        text-align: right;\n",
       "    }\n",
       "</style>\n",
       "<table border=\"1\" class=\"dataframe\">\n",
       "  <thead>\n",
       "    <tr style=\"text-align: right;\">\n",
       "      <th></th>\n",
       "      <th>text</th>\n",
       "      <th>Sentiment</th>\n",
       "    </tr>\n",
       "  </thead>\n",
       "  <tbody>\n",
       "    <tr>\n",
       "      <th>2619</th>\n",
       "      <td>I just wanted to let you know that your suppor...</td>\n",
       "      <td>4.0</td>\n",
       "    </tr>\n",
       "    <tr>\n",
       "      <th>2620</th>\n",
       "      <td>Not only that I am getting quick answers to al...</td>\n",
       "      <td>3.0</td>\n",
       "    </tr>\n",
       "    <tr>\n",
       "      <th>2621</th>\n",
       "      <td>In 2015 we bought the full DevExpress Universa...</td>\n",
       "      <td>4.0</td>\n",
       "    </tr>\n",
       "    <tr>\n",
       "      <th>2622</th>\n",
       "      <td>After 25 Years of professional windows develop...</td>\n",
       "      <td>4.0</td>\n",
       "    </tr>\n",
       "    <tr>\n",
       "      <th>2623</th>\n",
       "      <td>AWESOME !</td>\n",
       "      <td>4.0</td>\n",
       "    </tr>\n",
       "  </tbody>\n",
       "</table>\n",
       "</div>"
      ],
      "text/plain": [
       "                                                   text  Sentiment\n",
       "2619  I just wanted to let you know that your suppor...        4.0\n",
       "2620  Not only that I am getting quick answers to al...        3.0\n",
       "2621  In 2015 we bought the full DevExpress Universa...        4.0\n",
       "2622  After 25 Years of professional windows develop...        4.0\n",
       "2623                                          AWESOME !        4.0"
      ]
     },
     "execution_count": 48,
     "metadata": {},
     "output_type": "execute_result"
    },
    {
     "data": {
      "image/png": "[encoded data removed]",
      "text/plain": [
       "<Figure size 432x288 with 1 Axes>"
      ]
     },
     "metadata": {
      "needs_background": "light"
     },
     "output_type": "display_data"
    }
   ],
   "source": [
    "data.info()\n",
    "#Гистограмма распределения классов \n",
    "data.hist(column=[\"Sentiment\"])\n",
    "data.tail()"
   ]
  },
  {
   "cell_type": "code",
   "execution_count": 49,
   "metadata": {},
   "outputs": [
    {
     "data": {
      "text/plain": [
       "array([[<matplotlib.axes._subplots.AxesSubplot object at 0x0000020B0240F940>]],\n",
       "      dtype=object)"
      ]
     },
     "execution_count": 49,
     "metadata": {},
     "output_type": "execute_result"
    },
    {
     "data": {
      "image/png": "[encoded data removed]",
      "text/plain": [
       "<Figure size 432x288 with 1 Axes>"
      ]
     },
     "metadata": {
      "needs_background": "light"
     },
     "output_type": "display_data"
    }
   ],
   "source": [
    "data[\"target\"] = data.Sentiment.apply(lambda x: 1 if x > 2 else 0 if x < 2 else 0.5)\n",
    "data.hist(column=[\"target\"])"
   ]
  },
  {
   "cell_type": "code",
   "execution_count": 50,
   "metadata": {},
   "outputs": [],
   "source": [
    "#The data store in really imbalanced\n",
    "#Let's try the over sampling technice\n",
    "\n",
    "import random \n",
    "classes = np.unique(data.target.values)\n",
    "amount_classes = data.groupby(\"target\").count().text.values\n",
    "max_amount = max(amount_classes)\n",
    "for cl_index in range(len(classes)):\n",
    "    cl = classes[cl_index]\n",
    "    cl_slice = data[data.target == cl]\n",
    "    amount = amount_classes[cl_index]\n",
    "    samples_to_add = max_amount - amount\n",
    "    while samples_to_add > 0:\n",
    "        sample_index = random.randint(0, amount - 1)\n",
    "\n",
    "        data = data.append(cl_slice.iloc[sample_index])\n",
    "        samples_to_add -= 1\n"
   ]
  },
  {
   "cell_type": "code",
   "execution_count": 51,
   "metadata": {},
   "outputs": [
    {
     "name": "stdout",
     "output_type": "stream",
     "text": [
      "<class 'pandas.core.frame.DataFrame'>\n",
      "Int64Index: 3864 entries, 0 to 1487\n",
      "Data columns (total 3 columns):\n",
      "text         3864 non-null object\n",
      "Sentiment    3864 non-null float64\n",
      "target       3864 non-null float64\n",
      "dtypes: float64(2), object(1)\n",
      "memory usage: 120.8+ KB\n"
     ]
    },
    {
     "data": {
      "text/plain": [
       "array([[<matplotlib.axes._subplots.AxesSubplot object at 0x0000020B02AAFFD0>]],\n",
       "      dtype=object)"
      ]
     },
     "execution_count": 51,
     "metadata": {},
     "output_type": "execute_result"
    },
    {
     "data": {
      "image/png": "[encoded data removed]",
      "text/plain": [
       "<Figure size 432x288 with 1 Axes>"
      ]
     },
     "metadata": {
      "needs_background": "light"
     },
     "output_type": "display_data"
    }
   ],
   "source": [
    "data.info()\n",
    "data.hist(column=[\"target\"])"
   ]
  },
  {
   "cell_type": "code",
   "execution_count": 52,
   "metadata": {},
   "outputs": [],
   "source": [
    "from sklearn.linear_model import LinearRegression, LogisticRegression\n",
    "from sklearn.model_selection import cross_val_score\n",
    "from sklearn.feature_extraction.text import TfidfTransformer, CountVectorizer, TfidfVectorizer\n",
    "from sklearn.svm import LinearSVC\n",
    "\n",
    "X = data.text.values\n",
    "Y = data.target.values"
   ]
  },
  {
   "cell_type": "code",
   "execution_count": 11,
   "metadata": {},
   "outputs": [],
   "source": [
    "#Импортируем доп библиотеки\n",
    "from sklearn.pipeline import Pipeline\n",
    "#Подбор лучших параметров\n",
    "from sklearn.model_selection import GridSearchCV\n",
    "\n",
    "#Функция создания каскада - пайплайна из ветроризатора, трансформатора и класификатора\n",
    "def text_classifier(vectorizer, classifier, transformer=None):\n",
    "    if (transformer is None) :\n",
    "        return Pipeline(\n",
    "                [(\"vectorizer\", vectorizer),\n",
    "                 (\"classifier\", classifier)]\n",
    "            )\n",
    "    else: \n",
    "        return Pipeline(\n",
    "            [(\"vectorizer\", vectorizer),\n",
    "             (\"transformer\", transformer),\n",
    "            (\"classifier\", classifier)]\n",
    "        )"
   ]
  },
  {
   "cell_type": "code",
   "execution_count": null,
   "metadata": {},
   "outputs": [],
   "source": [
    "# the best parameters search for the level 1 estimator\n",
    "ngram_range = [(2,4),(2,5),(3,5),(2,6),(3,6),(4,6)]\n",
    "param_grid = {\n",
    "    \"vectorizer\": [TfidfVectorizer(), CountVectorizer()],\n",
    "    \"vectorizer__analyzer\": [\"char\", \"char_wb\", \"word\"],\n",
    "    \"vectorizer__ngram_range\": ngram_range,\n",
    "    \"vectorizer__stop_words\": [None, \"english\"],\n",
    "    \"classifier\": [LinearRegression()],\n",
    "    #\"vectorizer__max_df\": np.arange(0.95, 1.0, 0.02),\n",
    "    #\"vectorizer__min_df\": np.arange(0.0, 0.10, 0.05),\n",
    "}\n",
    "\n",
    "pipLine = text_classifier(CountVectorizer(), LinearSVC())\n",
    "gridSearchCV = GridSearchCV(pipLine, scoring=\"max_error\", \n",
    "                            param_grid=param_grid,\n",
    "                            cv=5,\n",
    "                           )\n",
    "gridSearchCV.fit(X, Y)\n",
    "\n",
    "print(\"best params\", gridSearchCV.best_params_)\n",
    "print(\"best score\", gridSearchCV.best_score_)"
   ]
  },
  {
   "cell_type": "code",
   "execution_count": null,
   "metadata": {},
   "outputs": [],
   "source": [
    "# the best parameters search for the level 2 estimator\n",
    "\n",
    "Y_classes = data.Sentiment.apply(lambda x: 1 if x > 2 else -1 if x < 2 else 0).values\n",
    "\n",
    "ngram_range = [(2,4),(2,5),(3,5),(2,6),(3,6),(4,6)]\n",
    "param_grid = {\n",
    "    \"vectorizer\": [TfidfVectorizer(), CountVectorizer()],\n",
    "    \"vectorizer__analyzer\": [\"char\", \"char_wb\", \"word\"],\n",
    "    \"vectorizer__ngram_range\": ngram_range,\n",
    "    \"vectorizer__stop_words\": [None, \"english\"],\n",
    "    \"classifier\": [LogisticRegression(multi_class=\"multinomial\", \n",
    "                                      solver=\"lbfgs\",\n",
    "                                      max_iter=200   \n",
    "                                     )],\n",
    "    #\"vectorizer__max_df\": np.arange(0.95, 1.0, 0.02),\n",
    "    #\"vectorizer__min_df\": np.arange(0.0, 0.10, 0.05),\n",
    "}\n",
    "\n",
    "pipLine = text_classifier(CountVectorizer(), LogisticRegression())\n",
    "gridSearchCV = GridSearchCV(pipLine, \n",
    "                            cv=5,\n",
    "                            param_grid=param_grid)\n",
    "gridSearchCV.fit(X, Y_classes)\n",
    "\n",
    "print(\"best params\", gridSearchCV.best_params_)\n",
    "print(\"best score\", gridSearchCV.best_score_)"
   ]
  },
  {
   "cell_type": "code",
   "execution_count": 160,
   "metadata": {},
   "outputs": [
    {
     "data": {
      "text/plain": [
       "LinearRegression(copy_X=True, fit_intercept=True, n_jobs=None, normalize=False)"
      ]
     },
     "execution_count": 160,
     "metadata": {},
     "output_type": "execute_result"
    }
   ],
   "source": [
    "from sklearn.model_selection import train_test_split\n",
    "vectorizer = TfidfVectorizer(analyzer='word', ngram_range=(4, 6), max_df=0.95, stop_words='english')\n",
    "X_vec = vectorizer.fit_transform(X)\n",
    "\n",
    "#X_train, X_test, Y_train, Y_test = train_test_split(X_vec, Y, test_size=0.33)\n",
    "\n",
    "linear_classifier = LinearRegression()\n",
    "linear_classifier.fit(X_vec, Y)"
   ]
  },
  {
   "cell_type": "code",
   "execution_count": 161,
   "metadata": {},
   "outputs": [],
   "source": [
    "#print(\"Train\",\n",
    "#      linear_classifier.score(X_train, Y_train),\n",
    "      #\"Test\",\n",
    "      #linear_classifier.score(X_test, Y_test)\n",
    "#     )"
   ]
  },
  {
   "cell_type": "code",
   "execution_count": 162,
   "metadata": {},
   "outputs": [],
   "source": [
    "l2_vectorizer = CountVectorizer(analyzer='char_wb', ngram_range=(4, 6), max_df=0.95)\n",
    "X_vec_l2 = l2_vectorizer.fit_transform(X)\n",
    "\n",
    "linear_estimation = np.array([list([v]) for v in linear_classifier.predict(X_vec)])\n",
    "X_epanded = np.hstack((X_vec_l2.toarray(), linear_estimation))\n",
    "Y_classes = data.Sentiment.apply(lambda x: 1 if x > 2 else -1 if x < 2 else 0).values"
   ]
  },
  {
   "cell_type": "code",
   "execution_count": 57,
   "metadata": {},
   "outputs": [
    {
     "data": {
      "text/plain": [
       "LogisticRegression(C=1.0, class_weight=None, dual=False, fit_intercept=True,\n",
       "                   intercept_scaling=1, l1_ratio=None, max_iter=200,\n",
       "                   multi_class='multinomial', n_jobs=None, penalty='l2',\n",
       "                   random_state=None, solver='lbfgs', tol=0.0001, verbose=0,\n",
       "                   warm_start=False)"
      ]
     },
     "execution_count": 57,
     "metadata": {},
     "output_type": "execute_result"
    }
   ],
   "source": [
    "#X_train, X_test, Y_train, Y_test = train_test_split(X_epanded, Y_classes, test_size=0.33)\n",
    "\n",
    "\n",
    "log_classifier = LogisticRegression(solver=\"lbfgs\", \n",
    "                                    multi_class=\"multinomial\", \n",
    "                                    max_iter=200)\n",
    "log_classifier.fit(X_epanded, Y_classes)"
   ]
  },
  {
   "cell_type": "code",
   "execution_count": 58,
   "metadata": {},
   "outputs": [
    {
     "name": "stdout",
     "output_type": "stream",
     "text": [
      "[0.93669251 0.94056848 0.95348837 0.91050584 0.90142672]\n"
     ]
    }
   ],
   "source": [
    "#print(\"Train\",\n",
    "#      log_classifier.score(X_train, Y_train),\n",
    "#      \"Test\",\n",
    "#      log_classifier.score(X_test, Y_test))\n",
    "\n",
    "print(cross_val_score(log_classifier, X_epanded, Y_classes, cv=5))"
   ]
  },
  {
   "cell_type": "code",
   "execution_count": 59,
   "metadata": {},
   "outputs": [
    {
     "name": "stdout",
     "output_type": "stream",
     "text": [
      "3863\n",
      "I feel it crazy and would not recommend to my friends who think much of DevOps. Prediction -  -1\n",
      "The real value is -  -1\n",
      "[[9.98647807e-01 1.04850993e-03 3.03683275e-04]]\n"
     ]
    }
   ],
   "source": [
    "print(len(X) - 1)\n",
    "test_index = 2989\n",
    "print(X[test_index],\n",
    "      \"Prediction - \",\n",
    "      log_classifier.predict([X_epanded[test_index]])[0])\n",
    "print(\"The real value is - \",\n",
    "     Y_classes[test_index])\n",
    "print(log_classifier.predict_proba([X_epanded[test_index]]))"
   ]
  },
  {
   "cell_type": "code",
   "execution_count": 60,
   "metadata": {},
   "outputs": [],
   "source": [
    "import pickle\n",
    "#Сохранение данных в файл с помощью pickle\n",
    "pickle.dump(linear_classifier, open( \"l1_Classifier.pkl\", \"wb\" ))\n",
    "pickle.dump(vectorizer, open( \"l1_vectorizer.pkl\", \"wb\" ))\n",
    "pickle.dump(log_classifier, open( \"l2_Classifier.pkl\", \"wb\" ))\n",
    "pickle.dump(l2_vectorizer, open( \"l2_vectorizer.pkl\", \"wb\" ))"
   ]
  },
  {
   "cell_type": "code",
   "execution_count": 163,
   "metadata": {},
   "outputs": [],
   "source": [
    "def rebalanse_set(data, labels):\n",
    "    classes = np.unique(labels)\n",
    "    fric_d = dict()\n",
    "    for cl in classes:\n",
    "        fric_d.setdefault(cl, 0)\n",
    "        \n",
    "    for label in labels:\n",
    "        fric_d[label] += 1\n",
    "        \n",
    "    max_amount = max(fric_d.values())\n",
    "\n",
    "    new_data = np.copy(data)\n",
    "    new_labels = np.copy(labels)\n",
    "    for cl_index in range(len(classes)):\n",
    "        cl = classes[cl_index]\n",
    "        cl_slice = data[np.where(labels == cl)[0]]\n",
    "        amount = fric_d[cl]\n",
    "        samples_to_add = max_amount - amount\n",
    "\n",
    "        new_labels = np.concatenate((new_labels, samples_to_add*[cl]))\n",
    "        while samples_to_add > 0:\n",
    "            sample_index = random.randint(0, amount - 1)\n",
    "            new_data = np.append(new_data, cl_slice[sample_index])\n",
    "            samples_to_add -= 1\n",
    "\n",
    "    return new_data, new_labels\n",
    "    \n",
    "data = np.array([1, 2, 3, 4, 5, 6, 7])\n",
    "labels = np.array([1, 1, 1, 1, 1, 0, 1])\n",
    "new_data, labels_new = rebalanse_set(data, labels)\n",
    "\n",
    "assert(len(new_data) == 12)"
   ]
  },
  {
   "cell_type": "code",
   "execution_count": 166,
   "metadata": {},
   "outputs": [],
   "source": [
    "def converToBinary(targetValue, labels, prediction):\n",
    "    binariezedLabelds = np.array([(1 if x==targetValue else 0) for x in labels])\n",
    "    binariezedPredictions = np.array([(1 if x==targetValue else 0) for x in prediction])\n",
    "    return binariezedLabelds, binariezedPredictions\n",
    "\n",
    "def printSummary(val_acc, val_recall, val_precision, val_f_measure):\n",
    "    print(\"+++++++++++++++++%s+++++++++++++++++\" % \"Summary\")\n",
    "    print(\"Valication accuracy for the 'bad' class is %f\" % np.mean(val_acc[0]))\n",
    "    print(\"Valication accuracy for the 'neutral' class is %f\" % np.mean(val_acc[1]))\n",
    "    print(\"Valication accuracy for the 'good' class is %f\" % np.mean(val_acc[2]))\n",
    "\n",
    "    print(\"Valication recall for the 'bad' class is %f\" % np.mean(val_recall[0]))\n",
    "    print(\"Valication recall for the 'neutral' class is %f\" % np.mean(val_recall[1]))\n",
    "    print(\"Valication recall for the 'good' class is %f\" % np.mean(val_recall[2]))\n",
    "\n",
    "    print(\"Valication precision for the 'bad' class is %f\" % np.mean(val_precision[0]))\n",
    "    print(\"Valication precision for the 'neutral' class is %f\" % np.mean(val_precision[1]))\n",
    "    print(\"Valication precision for the 'good' class is %f\" % np.mean(val_precision[2]))\n",
    "\n",
    "    print(\"Valication f_measure for the 'bad' class is %f\" % np.mean(val_f_measure[0]))\n",
    "    print(\"Valication f_measure for the 'neutral' class is %f\" % np.mean(val_f_measure[1]))\n",
    "    print(\"Valication f_measure for the 'good' class is %f\" % np.mean(val_f_measure[2]))\n",
    "\n",
    "def validateForClass(classId, Y_classes_test, prediction, val_acc, val_recall, val_precision,\n",
    "val_f_measure):\n",
    "    binariezedLabelds, binariezedPredictions = converToBinary(classId, \n",
    "                    Y_classes_test,\n",
    "                    prediction)\n",
    "    #Cals measures only if we have actual values in a sub set \n",
    "    if (sum(binariezedLabelds) != 0):\n",
    "        acc = accuracy_score(binariezedLabelds, binariezedPredictions)\n",
    "        recall = recall_score(binariezedLabelds, binariezedPredictions)\n",
    "        precision = precision_score(binariezedLabelds, binariezedPredictions)\n",
    "        f_measure = f1_score(binariezedLabelds, binariezedPredictions)\n",
    "\n",
    "        index = classes.index(classId) \n",
    "        val_acc[index].append(acc)\n",
    "        val_recall[index].append(recall)\n",
    "        val_precision[index].append(precision)\n",
    "        val_f_measure[index].append(f_measure)\n",
    "\n",
    "def create_l2_classifier(linear_classifier, X_l2_train, Y_classes_train):\n",
    "    lin_e_train = np.array([list([v]) for v in linear_classifier.predict(X_l1_train)])\n",
    "    X_l2_extended_train = np.hstack((X_l2_train.toarray(), lin_e_train))\n",
    "    \n",
    "    log_classifier = LogisticRegression(solver=\"lbfgs\", \n",
    "                                        multi_class=\"ovr\")\n",
    "    log_classifier.fit(X_l2_extended_train, Y_classes_train)\n",
    "    return log_classifier\n",
    "\n",
    "def init_variables(X, Y_classes, train_index, test_index): \n",
    "    X_train, Y_classes_train = rebalanse_set(X[train_index], Y_classes[train_index])\n",
    "\n",
    "    return (vectorizer.transform(X_train), vectorizer.transform(X[test_index]), \n",
    "            l2_vectorizer.transform(X_train), l2_vectorizer.transform(X[test_index]),\n",
    "            Y_classes_train, Y_classes[test_index])"
   ]
  },
  {
   "cell_type": "code",
   "execution_count": 167,
   "metadata": {},
   "outputs": [
    {
     "name": "stdout",
     "output_type": "stream",
     "text": [
      "++++++++++++++++++++++++0++++++++++++++++++++++++\n"
     ]
    },
    {
     "name": "stderr",
     "output_type": "stream",
     "text": [
      "C:\\Users\\Maks Konyaev\\Anaconda3\\lib\\site-packages\\sklearn\\linear_model\\logistic.py:947: ConvergenceWarning: lbfgs failed to converge. Increase the number of iterations.\n",
      "  \"of iterations.\", ConvergenceWarning)\n"
     ]
    },
    {
     "name": "stdout",
     "output_type": "stream",
     "text": [
      "++++++++++++++++++++++++1++++++++++++++++++++++++\n"
     ]
    },
    {
     "name": "stderr",
     "output_type": "stream",
     "text": [
      "C:\\Users\\Maks Konyaev\\Anaconda3\\lib\\site-packages\\sklearn\\linear_model\\logistic.py:947: ConvergenceWarning: lbfgs failed to converge. Increase the number of iterations.\n",
      "  \"of iterations.\", ConvergenceWarning)\n"
     ]
    },
    {
     "name": "stdout",
     "output_type": "stream",
     "text": [
      "++++++++++++++++++++++++2++++++++++++++++++++++++\n"
     ]
    },
    {
     "name": "stderr",
     "output_type": "stream",
     "text": [
      "C:\\Users\\Maks Konyaev\\Anaconda3\\lib\\site-packages\\sklearn\\linear_model\\logistic.py:947: ConvergenceWarning: lbfgs failed to converge. Increase the number of iterations.\n",
      "  \"of iterations.\", ConvergenceWarning)\n"
     ]
    },
    {
     "name": "stdout",
     "output_type": "stream",
     "text": [
      "++++++++++++++++++++++++3++++++++++++++++++++++++\n"
     ]
    },
    {
     "name": "stderr",
     "output_type": "stream",
     "text": [
      "C:\\Users\\Maks Konyaev\\Anaconda3\\lib\\site-packages\\sklearn\\linear_model\\logistic.py:947: ConvergenceWarning: lbfgs failed to converge. Increase the number of iterations.\n",
      "  \"of iterations.\", ConvergenceWarning)\n"
     ]
    },
    {
     "name": "stdout",
     "output_type": "stream",
     "text": [
      "++++++++++++++++++++++++4++++++++++++++++++++++++\n"
     ]
    },
    {
     "name": "stderr",
     "output_type": "stream",
     "text": [
      "C:\\Users\\Maks Konyaev\\Anaconda3\\lib\\site-packages\\sklearn\\linear_model\\logistic.py:947: ConvergenceWarning: lbfgs failed to converge. Increase the number of iterations.\n",
      "  \"of iterations.\", ConvergenceWarning)\n"
     ]
    },
    {
     "name": "stdout",
     "output_type": "stream",
     "text": [
      "++++++++++++++++++++++++5++++++++++++++++++++++++\n"
     ]
    },
    {
     "name": "stderr",
     "output_type": "stream",
     "text": [
      "C:\\Users\\Maks Konyaev\\Anaconda3\\lib\\site-packages\\sklearn\\linear_model\\logistic.py:947: ConvergenceWarning: lbfgs failed to converge. Increase the number of iterations.\n",
      "  \"of iterations.\", ConvergenceWarning)\n"
     ]
    },
    {
     "name": "stdout",
     "output_type": "stream",
     "text": [
      "++++++++++++++++++++++++6++++++++++++++++++++++++\n"
     ]
    },
    {
     "name": "stderr",
     "output_type": "stream",
     "text": [
      "C:\\Users\\Maks Konyaev\\Anaconda3\\lib\\site-packages\\sklearn\\linear_model\\logistic.py:947: ConvergenceWarning: lbfgs failed to converge. Increase the number of iterations.\n",
      "  \"of iterations.\", ConvergenceWarning)\n"
     ]
    },
    {
     "name": "stdout",
     "output_type": "stream",
     "text": [
      "++++++++++++++++++++++++7++++++++++++++++++++++++\n",
      "++++++++++++++++++++++++8++++++++++++++++++++++++\n",
      "++++++++++++++++++++++++9++++++++++++++++++++++++\n"
     ]
    },
    {
     "name": "stderr",
     "output_type": "stream",
     "text": [
      "C:\\Users\\Maks Konyaev\\Anaconda3\\lib\\site-packages\\sklearn\\linear_model\\logistic.py:947: ConvergenceWarning: lbfgs failed to converge. Increase the number of iterations.\n",
      "  \"of iterations.\", ConvergenceWarning)\n"
     ]
    },
    {
     "name": "stdout",
     "output_type": "stream",
     "text": [
      "+++++++++++++++++Summary+++++++++++++++++\n",
      "Valication accuracy for the 'bad' class is 0.857303\n",
      "Valication accuracy for the 'neutral' class is 0.865287\n",
      "Valication accuracy for the 'good' class is 0.900333\n",
      "Valication recall for the 'bad' class is 0.548400\n",
      "Valication recall for the 'neutral' class is 0.836794\n",
      "Valication recall for the 'good' class is 0.854087\n",
      "Valication precision for the 'bad' class is 0.660192\n",
      "Valication precision for the 'neutral' class is 0.814340\n",
      "Valication precision for the 'good' class is 0.669151\n",
      "Valication f_measure for the 'bad' class is 0.521536\n",
      "Valication f_measure for the 'neutral' class is 0.822638\n",
      "Valication f_measure for the 'good' class is 0.729593\n"
     ]
    }
   ],
   "source": [
    "#Now let's calc valition metrics for Max\n",
    "from sklearn.metrics import accuracy_score\n",
    "from sklearn.metrics import recall_score\n",
    "from sklearn.metrics import precision_score\n",
    "from sklearn.metrics import f1_score\n",
    "\n",
    "data = pd.read_csv(\"posts_all.csv\", encoding=\"utf-8\")\n",
    "data.dropna(inplace=True)\n",
    "\n",
    "#Create target column\n",
    "data[\"target\"] = data.Sentiment.apply(lambda x: 1 if x > 2 else 0 if x < 2 else 0.5)\n",
    "#extract values\n",
    "X = data.text.values\n",
    "Y = data.target.values\n",
    "Y_classes = data.Sentiment.apply(lambda x: 1 if x > 2 else -1 if x < 2 else 0).values\n",
    "\n",
    "\n",
    "val_acc = [[],[],[]]\n",
    "val_recall = [[],[],[]]\n",
    "val_precision = [[],[],[]]\n",
    "val_f_measure = [[],[],[]]\n",
    "\n",
    "\n",
    "classes = [-1, 0, 1]\n",
    "\n",
    "from sklearn.model_selection import KFold\n",
    "kf = KFold(n_splits=10)\n",
    "folds_i = 0\n",
    "for train_index, test_index in kf.split(X_l1):\n",
    "    (X_l1_train, X_l1_test, \n",
    "     X_l2_train, X_l2_test, \n",
    "     Y_classes_train, Y_classes_test) = init_variables(X, \n",
    "                                                       Y_classes, \n",
    "                                                       train_index, test_index) \n",
    "    print(\"++++++++++++++++++++++++%d++++++++++++++++++++++++\" % folds_i)\n",
    "    #create level 1 estimator\n",
    "    linear_classifier = LinearRegression()\n",
    "    linear_classifier.fit(X_l1_train, Y_classes_train)\n",
    "        \n",
    "    #prepare data for the level 2 classifier\n",
    "    log_classifier = create_l2_classifier(linear_classifier, \n",
    "                                          X_l2_train, Y_classes_train)\n",
    "    \n",
    "    lin_e_test = np.array([list([v]) for v in linear_classifier.predict(X_l1_test)])\n",
    "    X_l2_extended_test = np.hstack((X_l2_test.toarray(), lin_e_test))\n",
    "    prediction = log_classifier.predict(X_l2_extended_test)\n",
    "    #Estimate metrics\n",
    "    for targetValue in classes: \n",
    "        validateForClass(targetValue, \n",
    "                         Y_classes_test, \n",
    "                         prediction, \n",
    "                         val_acc, \n",
    "                         val_recall,\n",
    "                         val_precision,\n",
    "                         val_f_measure\n",
    "                        )\n",
    "    folds_i += 1\n",
    "\n",
    "printSummary(val_acc, val_recall,val_precision,val_f_measure)"
   ]
  },
  {
   "cell_type": "code",
   "execution_count": null,
   "metadata": {},
   "outputs": [],
   "source": []
  }
 ],
 "metadata": {
  "kernelspec": {
   "display_name": "Python 3",
   "language": "python",
   "name": "python3"
  },
  "language_info": {
   "codemirror_mode": {
    "name": "ipython",
    "version": 3
   },
   "file_extension": ".py",
   "mimetype": "text/x-python",
   "name": "python",
   "nbconvert_exporter": "python",
   "pygments_lexer": "ipython3",
   "version": "3.7.3"
  }
 },
 "nbformat": 4,
 "nbformat_minor": 4
}
